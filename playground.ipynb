{
  "cells": [
    {
      "cell_type": "code",
      "source": [
        "!nvidia-smi"
      ],
      "metadata": {
        "id": "SolDablAnxTw",
        "outputId": "d10ce93d-d9ea-4bf9-f7c3-8f76e5561ec8",
        "colab": {
          "base_uri": "https://localhost:8080/"
        }
      },
      "execution_count": 1,
      "outputs": [
        {
          "output_type": "stream",
          "name": "stdout",
          "text": [
            "Mon Apr 22 07:06:38 2024       \n",
            "+---------------------------------------------------------------------------------------+\n",
            "| NVIDIA-SMI 535.104.05             Driver Version: 535.104.05   CUDA Version: 12.2     |\n",
            "|-----------------------------------------+----------------------+----------------------+\n",
            "| GPU  Name                 Persistence-M | Bus-Id        Disp.A | Volatile Uncorr. ECC |\n",
            "| Fan  Temp   Perf          Pwr:Usage/Cap |         Memory-Usage | GPU-Util  Compute M. |\n",
            "|                                         |                      |               MIG M. |\n",
            "|=========================================+======================+======================|\n",
            "|   0  Tesla T4                       Off | 00000000:00:04.0 Off |                    0 |\n",
            "| N/A   73C    P0              33W /  70W |      0MiB / 15360MiB |      0%      Default |\n",
            "|                                         |                      |                  N/A |\n",
            "+-----------------------------------------+----------------------+----------------------+\n",
            "                                                                                         \n",
            "+---------------------------------------------------------------------------------------+\n",
            "| Processes:                                                                            |\n",
            "|  GPU   GI   CI        PID   Type   Process name                            GPU Memory |\n",
            "|        ID   ID                                                             Usage      |\n",
            "|=======================================================================================|\n",
            "|  No running processes found                                                           |\n",
            "+---------------------------------------------------------------------------------------+\n"
          ]
        }
      ]
    },
    {
      "cell_type": "code",
      "execution_count": 2,
      "metadata": {
        "id": "lIYdn1woOS1n"
      },
      "outputs": [],
      "source": [
        "#@title Setup environment { display-mode: 'form' }\n",
        "%%capture\n",
        "import os, subprocess, sys\n",
        "\n",
        "src_dir = os.path.abspath(\"COMM061-NLP-CW\")\n",
        "first_install = False\n",
        "if not os.path.exists(src_dir):\n",
        "  output = subprocess.run([\"git\", \"clone\", \"https://github.com/Cogniveon/COMM061-NLP-CW.git\"], capture_output=True, check=True)\n",
        "  assert output.returncode == 0\n",
        "  print(\"Git clone:\", output.stderr.decode('utf-8'))\n",
        "  first_install = True\n",
        "\n",
        "output = subprocess.run(\n",
        "    [\"git\", \"pull\", \"origin\", \"main\"],\n",
        "    cwd=src_dir,\n",
        "    capture_output=True,\n",
        "    check=True,\n",
        ")\n",
        "assert output.returncode == 0\n",
        "\n",
        "print(\"Git pull:\", output.stdout.decode('utf-8'))\n",
        "\n",
        "already_up_to_date = 'Already up to date.' in output.stdout.decode('utf-8')\n",
        "\n",
        "if first_install or not already_up_to_date:\n",
        "  output = subprocess.run(\n",
        "      [\"pip\", \"install\", \"-e\", src_dir],\n",
        "      capture_output=True,\n",
        "      check=True,\n",
        "  )\n",
        "  assert output.returncode == 0\n",
        "  print(\"PIP install:\", output.stdout.decode('utf-8'))\n",
        "else:\n",
        "  print(\"Skipping install...\")"
      ]
    },
    {
      "cell_type": "code",
      "source": [
        "from nlp_cw import get_dataset, tokenize_dataset, init_trainer\n",
        "\n",
        "dataset, id2label, label2id, label_list, num_labels = get_dataset(\n",
        "    \"surrey-nlp/PLOD-CW\", [\"B-O\", \"B-AC\", \"I-AC\", \"B-LF\", \"I-LF\"]\n",
        ")\n",
        "\n",
        "dataset"
      ],
      "metadata": {
        "id": "22FC56Yp5bZW",
        "outputId": "e03e53de-4f69-4719-a011-87eccfc6a42c",
        "colab": {
          "base_uri": "https://localhost:8080/"
        }
      },
      "execution_count": 3,
      "outputs": [
        {
          "output_type": "execute_result",
          "data": {
            "text/plain": [
              "DatasetDict({\n",
              "    train: Dataset({\n",
              "        features: ['tokens', 'ner_tags'],\n",
              "        num_rows: 1072\n",
              "    })\n",
              "    validation: Dataset({\n",
              "        features: ['tokens', 'ner_tags'],\n",
              "        num_rows: 126\n",
              "    })\n",
              "    test: Dataset({\n",
              "        features: ['tokens', 'ner_tags'],\n",
              "        num_rows: 153\n",
              "    })\n",
              "})"
            ]
          },
          "metadata": {},
          "execution_count": 3
        }
      ]
    },
    {
      "cell_type": "code",
      "source": [
        "# model_name = \"romainlhardy/roberta-large-finetuned-ner\"\n",
        "model_name = \"google-bert/bert-base-uncased\"\n",
        "\n",
        "tokenizer, tokenized_dataset = tokenize_dataset(dataset, model_name)"
      ],
      "metadata": {
        "id": "oyW3Hh2OI8Tw"
      },
      "execution_count": 4,
      "outputs": []
    },
    {
      "cell_type": "code",
      "source": [
        "trainer = init_trainer(\n",
        "    tokenizer,\n",
        "    label_list,\n",
        "    num_labels,\n",
        "    id2label,\n",
        "    label2id,\n",
        "    batch_size=16,\n",
        "    num_epochs=10,\n",
        "    model_name_or_path=model_name,\n",
        "    dataset=tokenized_dataset,\n",
        ")\n",
        "trainer.train()"
      ],
      "metadata": {
        "id": "FmZ3nO6tP7s1",
        "outputId": "cacaa98d-9e6b-44b6-ab9f-2a428e61a0ff",
        "colab": {
          "base_uri": "https://localhost:8080/",
          "height": 552
        }
      },
      "execution_count": 5,
      "outputs": [
        {
          "output_type": "stream",
          "name": "stderr",
          "text": [
            "Some weights of BertForTokenClassification were not initialized from the model checkpoint at google-bert/bert-base-uncased and are newly initialized: ['classifier.bias', 'classifier.weight']\n",
            "You should probably TRAIN this model on a down-stream task to be able to use it for predictions and inference.\n",
            "/usr/local/lib/python3.10/dist-packages/accelerate/accelerator.py:436: FutureWarning: Passing the following arguments to `Accelerator` is deprecated and will be removed in version 1.0 of Accelerate: dict_keys(['dispatch_batches', 'split_batches', 'even_batches', 'use_seedable_sampler']). Please pass an `accelerate.DataLoaderConfiguration` instead: \n",
            "dataloader_config = DataLoaderConfiguration(dispatch_batches=None, split_batches=False, even_batches=True, use_seedable_sampler=True)\n",
            "  warnings.warn(\n"
          ]
        },
        {
          "output_type": "display_data",
          "data": {
            "text/plain": [
              "<IPython.core.display.HTML object>"
            ],
            "text/html": [
              "\n",
              "    <div>\n",
              "      \n",
              "      <progress value='670' max='670' style='width:300px; height:20px; vertical-align: middle;'></progress>\n",
              "      [670/670 05:44, Epoch 10/10]\n",
              "    </div>\n",
              "    <table border=\"1\" class=\"dataframe\">\n",
              "  <thead>\n",
              " <tr style=\"text-align: left;\">\n",
              "      <th>Epoch</th>\n",
              "      <th>Training Loss</th>\n",
              "      <th>Validation Loss</th>\n",
              "      <th>Precision</th>\n",
              "      <th>Recall</th>\n",
              "      <th>F1</th>\n",
              "      <th>Accuracy</th>\n",
              "    </tr>\n",
              "  </thead>\n",
              "  <tbody>\n",
              "    <tr>\n",
              "      <td>1</td>\n",
              "      <td>0.598900</td>\n",
              "      <td>0.253381</td>\n",
              "      <td>0.910079</td>\n",
              "      <td>0.911430</td>\n",
              "      <td>0.910754</td>\n",
              "      <td>0.906551</td>\n",
              "    </tr>\n",
              "    <tr>\n",
              "      <td>2</td>\n",
              "      <td>0.303100</td>\n",
              "      <td>0.226109</td>\n",
              "      <td>0.929827</td>\n",
              "      <td>0.915718</td>\n",
              "      <td>0.922719</td>\n",
              "      <td>0.918003</td>\n",
              "    </tr>\n",
              "    <tr>\n",
              "      <td>3</td>\n",
              "      <td>0.197200</td>\n",
              "      <td>0.225210</td>\n",
              "      <td>0.932966</td>\n",
              "      <td>0.922810</td>\n",
              "      <td>0.927861</td>\n",
              "      <td>0.923194</td>\n",
              "    </tr>\n",
              "    <tr>\n",
              "      <td>4</td>\n",
              "      <td>0.167100</td>\n",
              "      <td>0.231544</td>\n",
              "      <td>0.939799</td>\n",
              "      <td>0.926934</td>\n",
              "      <td>0.933322</td>\n",
              "      <td>0.927470</td>\n",
              "    </tr>\n",
              "    <tr>\n",
              "      <td>5</td>\n",
              "      <td>0.144200</td>\n",
              "      <td>0.244608</td>\n",
              "      <td>0.935734</td>\n",
              "      <td>0.934191</td>\n",
              "      <td>0.934962</td>\n",
              "      <td>0.930676</td>\n",
              "    </tr>\n",
              "    <tr>\n",
              "      <td>6</td>\n",
              "      <td>0.106200</td>\n",
              "      <td>0.250802</td>\n",
              "      <td>0.937583</td>\n",
              "      <td>0.931552</td>\n",
              "      <td>0.934558</td>\n",
              "      <td>0.929455</td>\n",
              "    </tr>\n",
              "    <tr>\n",
              "      <td>7</td>\n",
              "      <td>0.089100</td>\n",
              "      <td>0.261856</td>\n",
              "      <td>0.939721</td>\n",
              "      <td>0.933366</td>\n",
              "      <td>0.936533</td>\n",
              "      <td>0.931287</td>\n",
              "    </tr>\n",
              "    <tr>\n",
              "      <td>8</td>\n",
              "      <td>0.073800</td>\n",
              "      <td>0.276057</td>\n",
              "      <td>0.935138</td>\n",
              "      <td>0.934521</td>\n",
              "      <td>0.934829</td>\n",
              "      <td>0.929913</td>\n",
              "    </tr>\n",
              "    <tr>\n",
              "      <td>9</td>\n",
              "      <td>0.070300</td>\n",
              "      <td>0.284560</td>\n",
              "      <td>0.937231</td>\n",
              "      <td>0.933366</td>\n",
              "      <td>0.935295</td>\n",
              "      <td>0.930676</td>\n",
              "    </tr>\n",
              "    <tr>\n",
              "      <td>10</td>\n",
              "      <td>0.059600</td>\n",
              "      <td>0.286958</td>\n",
              "      <td>0.938650</td>\n",
              "      <td>0.933696</td>\n",
              "      <td>0.936167</td>\n",
              "      <td>0.931440</td>\n",
              "    </tr>\n",
              "  </tbody>\n",
              "</table><p>"
            ]
          },
          "metadata": {}
        },
        {
          "output_type": "execute_result",
          "data": {
            "text/plain": [
              "TrainOutput(global_step=670, training_loss=0.17096841246334474, metrics={'train_runtime': 345.2, 'train_samples_per_second': 31.054, 'train_steps_per_second': 1.941, 'total_flos': 689066401951200.0, 'train_loss': 0.17096841246334474, 'epoch': 10.0})"
            ]
          },
          "metadata": {},
          "execution_count": 5
        }
      ]
    },
    {
      "cell_type": "code",
      "source": [
        "trainer.evaluate()"
      ],
      "metadata": {
        "id": "ZUHU55QdP-yJ",
        "outputId": "2a93df95-5ba6-4eab-9f0a-6f5f5f7d1c73",
        "colab": {
          "base_uri": "https://localhost:8080/",
          "height": 198
        }
      },
      "execution_count": 6,
      "outputs": [
        {
          "output_type": "display_data",
          "data": {
            "text/plain": [
              "<IPython.core.display.HTML object>"
            ],
            "text/html": [
              "\n",
              "    <div>\n",
              "      \n",
              "      <progress value='8' max='8' style='width:300px; height:20px; vertical-align: middle;'></progress>\n",
              "      [8/8 00:00]\n",
              "    </div>\n",
              "    "
            ]
          },
          "metadata": {}
        },
        {
          "output_type": "execute_result",
          "data": {
            "text/plain": [
              "{'eval_loss': 0.2618560492992401,\n",
              " 'eval_precision': 0.9397210229159748,\n",
              " 'eval_recall': 0.9333663203034801,\n",
              " 'eval_f1': 0.9365328920148945,\n",
              " 'eval_accuracy': 0.9312872194228127,\n",
              " 'eval_runtime': 1.5035,\n",
              " 'eval_samples_per_second': 83.806,\n",
              " 'eval_steps_per_second': 5.321,\n",
              " 'epoch': 10.0}"
            ]
          },
          "metadata": {},
          "execution_count": 6
        }
      ]
    }
  ],
  "metadata": {
    "colab": {
      "name": "scratchpad",
      "provenance": [],
      "gpuType": "T4"
    },
    "kernelspec": {
      "display_name": "Python 3",
      "name": "python3"
    },
    "accelerator": "GPU"
  },
  "nbformat": 4,
  "nbformat_minor": 0
}